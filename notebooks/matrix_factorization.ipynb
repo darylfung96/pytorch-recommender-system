{
 "cells": [
  {
   "cell_type": "markdown",
   "metadata": {
    "collapsed": true,
    "pycharm": {
     "name": "#%% md\n"
    }
   },
   "source": [
    "Matrix Factorization"
   ]
  },
  {
   "cell_type": "code",
   "execution_count": 38,
   "outputs": [],
   "source": [
    "# imports\n",
    "\n",
    "import torch\n",
    "import torch.nn as nn\n",
    "import numpy as np\n",
    "import pandas as pd\n",
    "from sklearn.preprocessing import StandardScaler\n",
    "\n",
    "from torch.utils.data import TensorDataset, DataLoader"
   ],
   "metadata": {
    "collapsed": false,
    "pycharm": {
     "name": "#%%\n"
    }
   }
  },
  {
   "cell_type": "markdown",
   "source": [
    "Load Data"
   ],
   "metadata": {
    "collapsed": false,
    "pycharm": {
     "name": "#%% md\n"
    }
   }
  },
  {
   "cell_type": "code",
   "execution_count": 6,
   "outputs": [
    {
     "name": "stdout",
     "output_type": "stream",
     "text": [
      "--2023-01-27 12:03:19--  https://files.grouplens.org/datasets/movielens/ml-100k.zip\r\n",
      "Resolving files.grouplens.org (files.grouplens.org)... 128.101.65.152\r\n",
      "Connecting to files.grouplens.org (files.grouplens.org)|128.101.65.152|:443... connected.\r\n",
      "HTTP request sent, awaiting response... 200 OK\r\n",
      "Length: 4924029 (4.7M) [application/zip]\r\n",
      "Saving to: ‘ml-100k.zip.1’\r\n",
      "\r\n",
      "ml-100k.zip.1       100%[===================>]   4.70M  14.3MB/s    in 0.3s    \r\n",
      "\r\n",
      "2023-01-27 12:03:20 (14.3 MB/s) - ‘ml-100k.zip.1’ saved [4924029/4924029]\r\n",
      "\r\n"
     ]
    }
   ],
   "source": [
    "!wget https://files.grouplens.org/datasets/movielens/ml-100k.zip\n"
   ],
   "metadata": {
    "collapsed": false,
    "pycharm": {
     "name": "#%%\n"
    }
   }
  },
  {
   "cell_type": "code",
   "execution_count": 8,
   "outputs": [
    {
     "name": "stdout",
     "output_type": "stream",
     "text": [
      "Archive:  ml-100k.zip\r\n",
      "   creating: ml-100k/\r\n",
      "  inflating: ml-100k/allbut.pl       \r\n",
      "  inflating: ml-100k/mku.sh          \r\n",
      "  inflating: ml-100k/README          \r\n",
      "  inflating: ml-100k/u.data          \r\n",
      "  inflating: ml-100k/u.genre         \r\n",
      "  inflating: ml-100k/u.info          \r\n",
      "  inflating: ml-100k/u.item          \r\n",
      "  inflating: ml-100k/u.occupation    \r\n",
      "  inflating: ml-100k/u.user          \r\n",
      "  inflating: ml-100k/u1.base         \r\n",
      "  inflating: ml-100k/u1.test         \r\n",
      "  inflating: ml-100k/u2.base         \r\n",
      "  inflating: ml-100k/u2.test         \r\n",
      "  inflating: ml-100k/u3.base         \r\n",
      "  inflating: ml-100k/u3.test         \r\n",
      "  inflating: ml-100k/u4.base         \r\n",
      "  inflating: ml-100k/u4.test         \r\n",
      "  inflating: ml-100k/u5.base         \r\n",
      "  inflating: ml-100k/u5.test         \r\n",
      "  inflating: ml-100k/ua.base         \r\n",
      "  inflating: ml-100k/ua.test         \r\n",
      "  inflating: ml-100k/ub.base         \r\n",
      "  inflating: ml-100k/ub.test         \r\n"
     ]
    }
   ],
   "source": [
    "!unzip ml-100k.zip"
   ],
   "metadata": {
    "collapsed": false,
    "pycharm": {
     "name": "#%%\n"
    }
   }
  },
  {
   "cell_type": "code",
   "execution_count": 3,
   "outputs": [
    {
     "name": "stdout",
     "output_type": "stream",
     "text": [
      "rm: ml-100k.zip: No such file or directory\r\n",
      "[Errno 2] No such file or directory: 'ml-100k'\n",
      "/Users/darylfung/programming/pytorch-recommender-system/notebooks/ml-100k\n"
     ]
    }
   ],
   "source": [
    "!rm ml-100k.zip\n",
    "%cd ml-100k"
   ],
   "metadata": {
    "collapsed": false,
    "pycharm": {
     "name": "#%%\n"
    }
   }
  },
  {
   "cell_type": "code",
   "execution_count": 84,
   "outputs": [],
   "source": [
    "# read csv file\n",
    "data = pd.read_csv('u.data', '\\t', names=['user', 'item', 'rating', 'timestamp'])"
   ],
   "metadata": {
    "collapsed": false,
    "pycharm": {
     "name": "#%%\n"
    }
   }
  },
  {
   "cell_type": "code",
   "execution_count": 5,
   "outputs": [
    {
     "data": {
      "text/plain": "<bound method NDFrame.head of        user  item  rating  timestamp\n0       196   242       3  881250949\n1       186   302       3  891717742\n2        22   377       1  878887116\n3       244    51       2  880606923\n4       166   346       1  886397596\n...     ...   ...     ...        ...\n99995   880   476       3  880175444\n99996   716   204       5  879795543\n99997   276  1090       1  874795795\n99998    13   225       2  882399156\n99999    12   203       3  879959583\n\n[100000 rows x 4 columns]>"
     },
     "execution_count": 5,
     "metadata": {},
     "output_type": "execute_result"
    }
   ],
   "source": [
    "data.head"
   ],
   "metadata": {
    "collapsed": false,
    "pycharm": {
     "name": "#%%\n"
    }
   }
  },
  {
   "cell_type": "markdown",
   "source": [
    "Create network"
   ],
   "metadata": {
    "collapsed": false
   }
  },
  {
   "cell_type": "code",
   "execution_count": 72,
   "outputs": [],
   "source": [
    "class Embedding(nn.Module):\n",
    "    def __init__(self, num_users, num_items, embedding_dims):\n",
    "        super(Embedding, self).__init__()\n",
    "        self.user_matrix = nn.Embedding(num_users, embedding_dims)\n",
    "        self.item_matrix = nn.Embedding(num_items, embedding_dims)\n",
    "\n",
    "    def forward(self, user, item):\n",
    "        if type(user) != torch.Tensor:\n",
    "            user = torch.tensor(user)\n",
    "        if type(item) != torch.Tensor:\n",
    "            item = torch.tensor(item)\n",
    "\n",
    "        user_matrix = self.user_matrix(user)\n",
    "        item_matrix = self.item_matrix(item)\n",
    "        outputs = user_matrix @ item_matrix.T\n",
    "        return outputs"
   ],
   "metadata": {
    "collapsed": false,
    "pycharm": {
     "name": "#%%\n"
    }
   }
  },
  {
   "cell_type": "code",
   "execution_count": 14,
   "outputs": [
    {
     "data": {
      "text/plain": "196"
     },
     "execution_count": 14,
     "metadata": {},
     "output_type": "execute_result"
    }
   ],
   "source": [],
   "metadata": {
    "collapsed": false,
    "pycharm": {
     "name": "#%%\n"
    }
   }
  },
  {
   "cell_type": "markdown",
   "source": [
    "Test network"
   ],
   "metadata": {
    "collapsed": false,
    "pycharm": {
     "name": "#%% md\n"
    }
   }
  },
  {
   "cell_type": "code",
   "source": [
    "num_users = data.max()['user']+1\n",
    "num_items = data.max()['item']+1\n",
    "\n",
    "network = Embedding(int(num_users), int(num_items), 64)\n",
    "predicted_rating = network(data['user'][0], data['item'][0])"
   ],
   "metadata": {
    "collapsed": false,
    "pycharm": {
     "name": "#%%\n"
    }
   },
   "execution_count": 85,
   "outputs": []
  },
  {
   "cell_type": "markdown",
   "source": [
    "Create loss functon and optimizer"
   ],
   "metadata": {
    "collapsed": false,
    "pycharm": {
     "name": "#%% md\n"
    }
   }
  },
  {
   "cell_type": "code",
   "execution_count": 86,
   "outputs": [],
   "source": [
    "criterion = nn.MSELoss()\n",
    "optim = torch.optim.Adam(network.parameters(), lr=0.001)"
   ],
   "metadata": {
    "collapsed": false,
    "pycharm": {
     "name": "#%%\n"
    }
   }
  },
  {
   "cell_type": "code",
   "execution_count": 42,
   "outputs": [],
   "source": [
    "# rating_scale = StandardScaler()\n",
    "# ratings = np.expand_dims(data['rating'].values, 1)\n",
    "# normalize_rating = rating_scale.fit_transform(ratings)\n",
    "# data['rating'] = normalize_rating.reshape(-1)"
   ],
   "metadata": {
    "collapsed": false,
    "pycharm": {
     "name": "#%%\n"
    }
   }
  },
  {
   "cell_type": "code",
   "execution_count": 87,
   "outputs": [
    {
     "name": "stderr",
     "output_type": "stream",
     "text": [
      "/Users/darylfung/opt/anaconda3/envs/py36/lib/python3.6/site-packages/torch/nn/modules/loss.py:446: UserWarning: Using a target size (torch.Size([128])) that is different to the input size (torch.Size([128, 128])). This will likely lead to incorrect results due to broadcasting. Please ensure they have the same size.\n",
      "  return F.mse_loss(input, target, reduction=self.reduction)\n",
      "/Users/darylfung/opt/anaconda3/envs/py36/lib/python3.6/site-packages/torch/nn/modules/loss.py:446: UserWarning: Using a target size (torch.Size([32])) that is different to the input size (torch.Size([32, 32])). This will likely lead to incorrect results due to broadcasting. Please ensure they have the same size.\n",
      "  return F.mse_loss(input, target, reduction=self.reduction)\n"
     ]
    },
    {
     "name": "stdout",
     "output_type": "stream",
     "text": [
      "tensor(39.3559, grad_fn=<MseLossBackward>)\n",
      "tensor(23.3093, grad_fn=<MseLossBackward>)\n",
      "tensor(12.5781, grad_fn=<MseLossBackward>)\n",
      "tensor(7.4742, grad_fn=<MseLossBackward>)\n",
      "tensor(4.8121, grad_fn=<MseLossBackward>)\n"
     ]
    }
   ],
   "source": [
    "dataset = TensorDataset(torch.FloatTensor(data.values))\n",
    "data_loader = DataLoader(dataset, 128, shuffle=False)\n",
    "\n",
    "for i in range(5):\n",
    "    for train_x in data_loader:\n",
    "        optim.zero_grad()\n",
    "        user = train_x[0][:, 0].long()\n",
    "        item = train_x[0][:, 1].long()\n",
    "        ratings = train_x[0][:, 2]\n",
    "        predicted_rating = network(user, item)\n",
    "\n",
    "        loss = criterion(predicted_rating, ratings)\n",
    "        loss.backward()\n",
    "        optim.step()\n",
    "    print(loss)"
   ],
   "metadata": {
    "collapsed": false,
    "pycharm": {
     "name": "#%%\n"
    }
   }
  },
  {
   "cell_type": "code",
   "execution_count": 88,
   "outputs": [],
   "source": [
    "predicted_rating = network(data['user'][1], data['user'][5])"
   ],
   "metadata": {
    "collapsed": false,
    "pycharm": {
     "name": "#%%\n"
    }
   }
  }
 ],
 "metadata": {
  "kernelspec": {
   "name": "python3",
   "language": "python",
   "display_name": "Python 3"
  },
  "language_info": {
   "codemirror_mode": {
    "name": "ipython",
    "version": 2
   },
   "file_extension": ".py",
   "mimetype": "text/x-python",
   "name": "python",
   "nbconvert_exporter": "python",
   "pygments_lexer": "ipython2",
   "version": "2.7.6"
  }
 },
 "nbformat": 4,
 "nbformat_minor": 0
}