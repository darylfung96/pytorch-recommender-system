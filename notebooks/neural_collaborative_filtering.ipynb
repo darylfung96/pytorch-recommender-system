{
 "cells": [
  {
   "cell_type": "code",
   "execution_count": null,
   "metadata": {
    "collapsed": true
   },
   "outputs": [],
   "source": []
  },
  {
   "cell_type": "markdown",
   "source": [
    "Neural Collaborative Filtering"
   ],
   "metadata": {
    "collapsed": false
   }
  },
  {
   "cell_type": "code",
   "execution_count": 1,
   "outputs": [],
   "source": [
    "# imports\n",
    "\n",
    "import torch\n",
    "import torch.nn as nn\n",
    "import numpy as np\n",
    "import pandas as pd\n",
    "from sklearn.preprocessing import StandardScaler\n",
    "\n",
    "from torch.utils.data import TensorDataset, DataLoader"
   ],
   "metadata": {
    "collapsed": false,
    "pycharm": {
     "name": "#%%\n"
    }
   }
  },
  {
   "cell_type": "markdown",
   "source": [
    "Load Data"
   ],
   "metadata": {
    "collapsed": false
   }
  },
  {
   "cell_type": "code",
   "execution_count": null,
   "outputs": [],
   "source": [
    "!wget https://files.grouplens.org/datasets/movielens/ml-100k.zip\n"
   ],
   "metadata": {
    "collapsed": false,
    "pycharm": {
     "name": "#%%\n"
    }
   }
  },
  {
   "cell_type": "code",
   "execution_count": null,
   "outputs": [],
   "source": [
    "!unzip ml-100k.zip"
   ],
   "metadata": {
    "collapsed": false,
    "pycharm": {
     "name": "#%%\n"
    }
   }
  },
  {
   "cell_type": "code",
   "execution_count": 4,
   "outputs": [
    {
     "name": "stdout",
     "output_type": "stream",
     "text": [
      "rm: ml-100k.zip: No such file or directory\r\n",
      "/Users/darylfung/programming/pytorch-recommender-system/notebooks/ml-100k\n"
     ]
    }
   ],
   "source": [
    "!rm ml-100k.zip\n",
    "%cd ml-100k"
   ],
   "metadata": {
    "collapsed": false,
    "pycharm": {
     "name": "#%%\n"
    }
   }
  },
  {
   "cell_type": "code",
   "execution_count": 5,
   "outputs": [],
   "source": [
    "# read csv file\n",
    "data = pd.read_csv('u.data', '\\t', names=['user', 'item', 'rating', 'timestamp'])"
   ],
   "metadata": {
    "collapsed": false,
    "pycharm": {
     "name": "#%%\n"
    }
   }
  },
  {
   "cell_type": "code",
   "execution_count": 5,
   "outputs": [
    {
     "data": {
      "text/plain": "<bound method NDFrame.head of        user  item  rating  timestamp\n0       196   242       3  881250949\n1       186   302       3  891717742\n2        22   377       1  878887116\n3       244    51       2  880606923\n4       166   346       1  886397596\n...     ...   ...     ...        ...\n99995   880   476       3  880175444\n99996   716   204       5  879795543\n99997   276  1090       1  874795795\n99998    13   225       2  882399156\n99999    12   203       3  879959583\n\n[100000 rows x 4 columns]>"
     },
     "execution_count": 5,
     "metadata": {},
     "output_type": "execute_result"
    }
   ],
   "source": [
    "data.head"
   ],
   "metadata": {
    "collapsed": false,
    "pycharm": {
     "name": "#%%\n"
    }
   }
  },
  {
   "cell_type": "markdown",
   "source": [
    "Create network"
   ],
   "metadata": {
    "collapsed": false
   }
  },
  {
   "cell_type": "code",
   "execution_count": 16,
   "outputs": [],
   "source": [
    "class Embedding(nn.Module):\n",
    "    def __init__(self, num_users, num_items, embedding_dims):\n",
    "        super(Embedding, self).__init__()\n",
    "        self.user_matrix = nn.Embedding(num_users, embedding_dims)\n",
    "        self.item_matrix = nn.Embedding(num_items, embedding_dims)\n",
    "\n",
    "        self.user_matrix_mlp = nn.Embedding(num_users, embedding_dims)\n",
    "        self.item_matrix_mlp = nn.Embedding(num_items, embedding_dims)\n",
    "        self.mlp = nn.Sequential(\n",
    "            nn.Linear(embedding_dims * 2, 128),\n",
    "            nn.ReLU(),\n",
    "            nn.Linear(128, 64))\n",
    "\n",
    "        self.fc = nn.Linear(embedding_dims + 64, 1)\n",
    "\n",
    "    def forward(self, user, item):\n",
    "        if type(user) != torch.Tensor:\n",
    "            user = torch.tensor(user)\n",
    "        if type(item) != torch.Tensor:\n",
    "            item = torch.tensor(item)\n",
    "\n",
    "        user_matrix = self.user_matrix(user)\n",
    "        item_matrix = self.item_matrix(item)\n",
    "        gmf_output = user_matrix * item_matrix\n",
    "\n",
    "        mlp_user_matrix = self.user_matrix_mlp(user)\n",
    "        mlp_item_matrix = self.item_matrix_mlp(item)\n",
    "        mlp_matrix = torch.cat([mlp_user_matrix, mlp_item_matrix], dim=1)\n",
    "        mlp_output = self.mlp(mlp_matrix)\n",
    "\n",
    "        total_output = torch.cat([gmf_output, mlp_output], dim=1)\n",
    "        outputs = self.fc(total_output)\n",
    "\n",
    "        return outputs\n",
    "\n",
    "num_users = data.max()['user']+1\n",
    "num_items = data.max()['item']+1\n",
    "\n",
    "network = Embedding(int(num_users), int(num_items), 64)\n",
    "predicted_rating = network(data['user'][0:3], data['item'][0:3])"
   ],
   "metadata": {
    "collapsed": false,
    "pycharm": {
     "name": "#%%\n"
    }
   }
  },
  {
   "cell_type": "code",
   "execution_count": null,
   "outputs": [],
   "source": [],
   "metadata": {
    "collapsed": false,
    "pycharm": {
     "name": "#%%\n"
    }
   }
  },
  {
   "cell_type": "markdown",
   "source": [
    "Test network"
   ],
   "metadata": {
    "collapsed": false
   }
  },
  {
   "cell_type": "code",
   "execution_count": 8,
   "outputs": [],
   "source": [
    "num_users = data.max()['user']+1\n",
    "num_items = data.max()['item']+1\n",
    "\n",
    "network = Embedding(int(num_users), int(num_items), 64)\n",
    "predicted_rating = network(data['user'][0:3], data['item'][0:3])"
   ],
   "metadata": {
    "collapsed": false,
    "pycharm": {
     "name": "#%%\n"
    }
   }
  },
  {
   "cell_type": "markdown",
   "source": [
    "Create loss functon and optimizer"
   ],
   "metadata": {
    "collapsed": false
   }
  },
  {
   "cell_type": "code",
   "execution_count": 17,
   "outputs": [],
   "source": [
    "criterion = nn.MSELoss()\n",
    "optim = torch.optim.Adam(network.parameters(), lr=0.001)"
   ],
   "metadata": {
    "collapsed": false,
    "pycharm": {
     "name": "#%%\n"
    }
   }
  },
  {
   "cell_type": "code",
   "execution_count": 18,
   "outputs": [
    {
     "name": "stderr",
     "output_type": "stream",
     "text": [
      "/Users/darylfung/opt/anaconda3/envs/py36/lib/python3.6/site-packages/torch/nn/modules/loss.py:446: UserWarning: Using a target size (torch.Size([128])) that is different to the input size (torch.Size([128, 1])). This will likely lead to incorrect results due to broadcasting. Please ensure they have the same size.\n",
      "  return F.mse_loss(input, target, reduction=self.reduction)\n",
      "/Users/darylfung/opt/anaconda3/envs/py36/lib/python3.6/site-packages/torch/nn/modules/loss.py:446: UserWarning: Using a target size (torch.Size([32])) that is different to the input size (torch.Size([32, 1])). This will likely lead to incorrect results due to broadcasting. Please ensure they have the same size.\n",
      "  return F.mse_loss(input, target, reduction=self.reduction)\n"
     ]
    },
    {
     "name": "stdout",
     "output_type": "stream",
     "text": [
      "tensor(1.4350, grad_fn=<MseLossBackward>)\n",
      "tensor(1.3135, grad_fn=<MseLossBackward>)\n",
      "tensor(1.2392, grad_fn=<MseLossBackward>)\n",
      "tensor(1.2061, grad_fn=<MseLossBackward>)\n",
      "tensor(1.1863, grad_fn=<MseLossBackward>)\n"
     ]
    }
   ],
   "source": [
    "dataset = TensorDataset(torch.FloatTensor(data.values))\n",
    "data_loader = DataLoader(dataset, 128, shuffle=False)\n",
    "\n",
    "for i in range(5):\n",
    "    for train_x in data_loader:\n",
    "        optim.zero_grad()\n",
    "        user = train_x[0][:, 0].long()\n",
    "        item = train_x[0][:, 1].long()\n",
    "        ratings = train_x[0][:, 2]\n",
    "        predicted_rating = network(user, item)\n",
    "\n",
    "        loss = criterion(predicted_rating, ratings)\n",
    "        loss.backward()\n",
    "        optim.step()\n",
    "    print(loss)"
   ],
   "metadata": {
    "collapsed": false,
    "pycharm": {
     "name": "#%%\n"
    }
   }
  },
  {
   "cell_type": "code",
   "execution_count": 31,
   "outputs": [],
   "source": [
    "predicted_rating = network(data['user'][1:2].values, data['item'][5:6].values)"
   ],
   "metadata": {
    "collapsed": false,
    "pycharm": {
     "name": "#%%\n"
    }
   }
  }
 ],
 "metadata": {
  "kernelspec": {
   "display_name": "Python 3",
   "language": "python",
   "name": "python3"
  },
  "language_info": {
   "codemirror_mode": {
    "name": "ipython",
    "version": 2
   },
   "file_extension": ".py",
   "mimetype": "text/x-python",
   "name": "python",
   "nbconvert_exporter": "python",
   "pygments_lexer": "ipython2",
   "version": "2.7.6"
  }
 },
 "nbformat": 4,
 "nbformat_minor": 0
}